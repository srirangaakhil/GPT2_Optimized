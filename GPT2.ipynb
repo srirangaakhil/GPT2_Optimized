{
  "nbformat": 4,
  "nbformat_minor": 0,
  "metadata": {
    "colab": {
      "provenance": []
    },
    "kernelspec": {
      "name": "python3",
      "display_name": "Python 3"
    },
    "language_info": {
      "name": "python"
    }
  },
  "cells": [
    {
      "cell_type": "code",
      "execution_count": null,
      "metadata": {
        "id": "v6Wznbah-lUs"
      },
      "outputs": [],
      "source": [
        "import torch\n",
        "import torch.nn as nn\n",
        "import torch.nn.functional as F\n",
        "from dataclasses import dataclass\n"
      ]
    },
    {
      "cell_type": "code",
      "source": [
        "@dataclass\n",
        "class modelconf:\n",
        "  n_layer: int = 12\n",
        "  n_head: int = 12\n",
        "  n_embd: int = 768\n",
        "  vocab_size: int = 50257\n",
        "  block_size: int = 1024\n",
        "\n",
        "class Attention(nn.Module):\n",
        "    def __init__(self, conf):\n",
        "        super().__init__()\n",
        "        self.n_head = conf.n_head\n",
        "        self.n_embd = conf.n_embd\n",
        "        self.scale = (conf.n_embd // conf.n_head) ** -0.5 # scale factor\n",
        "        #projection for output\n",
        "        self.c_proj=nn.Linear(conf.n_embd, conf.n_embd)\n",
        "        self.c_attn = nn.Linear(conf.n_embd, 3 * conf.n_embd)\n",
        "        self.register_buffer('bias', torch.tril(torch.ones(conf.block_size, conf.block_size)))\n",
        "    def forward(self, x):\n",
        "        B, T, C = x.shape\n",
        "        qkv=self.c_attn(x)\n",
        "        q, k, v = qkv.split(self.n_embd, dim=2)\n",
        "        k=k.view(B,T,self.n_head,C//self.n_head).transpose(1,2)\n",
        "        q=q.view(B,T,self.n_head,C//self.n_head).transpose(1,2)\n",
        "        v=v.view(B,T,self.n_head,C//self.n_head).transpose(1,2)\n",
        "        att=(q @ k.transpose(-2,-1)) * self.scale\n",
        "        att=att.masked_fill(self.tril[:T, :T] == 0, float('-inf'))\n",
        "        att=F.softmax(att, dim=-1)\n",
        "        y=att @ v\n",
        "        y = y.transpose(1, 2).contiguous().view(B, T, C)\n",
        "        y = self.c_proj(out)\n",
        "        return y\n",
        "\n",
        "class FFN(nn.Module):\n",
        "    def __init__(self, conf):\n",
        "        super().__init__()\n",
        "        self.c_fc = nn.Linear(conf.n_embd, 4 * conf.n_embd)\n",
        "        self.gelu = nn.GELU(approximate='tanh')\n",
        "        self.c_proj = nn.Linear(4 * conf.n_embd, conf.n_embd)\n",
        "\n",
        "    def forward(self, x):\n",
        "        x = self.c_fc(x)\n",
        "        x = self.gelu(x)\n",
        "        x = self.c_proj(x)\n",
        "        return x\n",
        "\n",
        "class Layer(nn.Module):\n",
        "    def __init__(self, conf):\n",
        "        super().__init__()\n",
        "        self.ln_1 = nn.LayerNorm(conf.n_embd)\n",
        "        self.attn = Attention(conf)\n",
        "        self.ln_2 = nn.LayerNorm(conf.n_embd)\n",
        "        self.mlp = FFN(conf)\n",
        "\n",
        "    def forward(self, x):\n",
        "        x = x + self.attn(self.ln_1(x))\n",
        "        x = x + self.mlp(self.ln_2(x))\n",
        "        return x\n",
        "\n"
      ],
      "metadata": {
        "id": "MwWUQ7tqABUk"
      },
      "execution_count": null,
      "outputs": []
    },
    {
      "cell_type": "code",
      "source": [
        "class GPT2(nn.Module):\n",
        "    def __init__(self, conf):\n",
        "        super().__init__()\n",
        "        self.conf = conf\n",
        "\n",
        "        self.transformer = nn.ModuleDict(dict(\n",
        "            wte=nn.Embedding(conf.vocab_size, conf.n_embd),\n",
        "            wpe=nn.Embedding(conf.block_size, conf.n_embd),\n",
        "            h = nn.ModuleList([Layer(conf) for _ in range(conf.n_layer)]),\n",
        "            ln_f = nn.LayerNorm(conf.n_embd),\n",
        "        ))\n",
        "        self.lm_head = nn.Linear(conf.n_embd, conf.vocab_size, bias=False)\n",
        "    @classmethod\n",
        "    def from_pretrained(cls, model_type):\n",
        "        \"\"\"Loads pretrained GPT-2 model weights from huggingface\"\"\"\n",
        "        assert model_type in {'gpt2', 'gpt2-medium', 'gpt2-large', 'gpt2-xl'}\n",
        "        from transformers import GPT2LMHeadModel\n",
        "        print(\"loading weights from pretrained gpt: %s\" % model_type)\n",
        "\n",
        "        # n_layer, n_head and n_embd are determined from model_type\n",
        "        config_args = {\n",
        "            'gpt2':         dict(n_layer=12, n_head=12, n_embd=768),  # 124M params\n",
        "            'gpt2-medium':  dict(n_layer=24, n_head=16, n_embd=1024), # 350M params\n",
        "            'gpt2-large':   dict(n_layer=36, n_head=20, n_embd=1280), # 774M params\n",
        "            'gpt2-xl':      dict(n_layer=48, n_head=25, n_embd=1600), # 1558M params\n",
        "        }[model_type]\n",
        "        config_args['vocab_size'] = 50257 # always 50257 for GPT model checkpoints\n",
        "        config_args['block_size'] = 1024 # always 1024 for GPT model checkpoints\n",
        "        # create a from-scratch initialized minGPT model\n",
        "        config = modelconf(**config_args)\n",
        "        model = GPT2(config)\n",
        "        sd = model.state_dict()\n",
        "        sd_keys = sd.keys()\n",
        "        sd_keys = [k for k in sd_keys if not k.endswith('.attn.bias')] # discard this mask / buffer, not a param\n",
        "\n",
        "        # init a huggingface/transformers model\n",
        "        model_hf = GPT2LMHeadModel.from_pretrained(model_type)\n",
        "        sd_hf = model_hf.state_dict()\n",
        "\n",
        "        # copy while ensuring all of the parameters are aligned and match in names and shapes\n",
        "        sd_keys_hf = sd_hf.keys()\n",
        "        sd_keys_hf = [k for k in sd_keys_hf if not k.endswith('.attn.masked_bias')] # just a buffer\n",
        "        sd_keys_hf = [k for k in sd_keys_hf if not k.endswith('.attn.bias')] # just the mask (buffer)\n",
        "        transposed = ['attn.c_attn.weight', 'attn.c_proj.weight', 'mlp.c_fc.weight', 'mlp.c_proj.weight']\n",
        "        #  transpose these weights when imported\n",
        "        assert len(sd_keys_hf) == len(sd_keys), f\"mismatched keys: {len(sd_keys_hf)} != {len(sd_keys)}\"\n",
        "        for k in sd_keys_hf:\n",
        "            if any(k.endswith(w) for w in transposed):\n",
        "                # special treatment for the Conv1D weights we need to transpose\n",
        "                assert sd_hf[k].shape[::-1] == sd[k].shape\n",
        "                with torch.no_grad():\n",
        "                    sd[k].copy_(sd_hf[k].t())\n",
        "            else:\n",
        "                # vanilla copy over the other parameters\n",
        "                assert sd_hf[k].shape == sd[k].shape\n",
        "                with torch.no_grad():\n",
        "                    sd[k].copy_(sd_hf[k])\n",
        "\n",
        "        return model"
      ],
      "metadata": {
        "id": "HqWmlrBaACv7"
      },
      "execution_count": null,
      "outputs": []
    },
    {
      "cell_type": "code",
      "source": [
        "model=GPT2.from_pretrained('gpt2')\n",
        "print('success')"
      ],
      "metadata": {
        "colab": {
          "base_uri": "https://localhost:8080/"
        },
        "id": "gr8B0trZuSO1",
        "outputId": "d0b8a631-748e-4ac7-abd2-7fd56308af6e"
      },
      "execution_count": null,
      "outputs": [
        {
          "output_type": "stream",
          "name": "stdout",
          "text": [
            "loading weights from pretrained gpt: gpt2\n",
            "success\n"
          ]
        }
      ]
    }
  ]
}